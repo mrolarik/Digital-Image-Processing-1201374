{
  "nbformat": 4,
  "nbformat_minor": 0,
  "metadata": {
    "colab": {
      "name": "image-04.ipynb",
      "provenance": []
    },
    "kernelspec": {
      "name": "python3",
      "display_name": "Python 3"
    }
  },
  "cells": [
    {
      "cell_type": "markdown",
      "metadata": {
        "id": "8w2ZYPzmUm6f",
        "colab_type": "text"
      },
      "source": [
        "# Tesseract OCR\n",
        "\n",
        "https://nanonets.com/blog/ocr-with-tesseract/"
      ]
    },
    {
      "cell_type": "markdown",
      "metadata": {
        "id": "VIZ-wCbCVyCZ",
        "colab_type": "text"
      },
      "source": [
        "## ติดตั้ง tesseract สำหรับใช้งานในภาษา python"
      ]
    },
    {
      "cell_type": "code",
      "metadata": {
        "id": "8uubR-pWTvba",
        "colab_type": "code",
        "colab": {
          "base_uri": "https://localhost:8080/",
          "height": 228
        },
        "outputId": "443a5c93-40b6-4dca-d174-3cae21ffa407"
      },
      "source": [
        "! pip install pytesseract"
      ],
      "execution_count": 1,
      "outputs": [
        {
          "output_type": "stream",
          "text": [
            "Collecting pytesseract\n",
            "  Downloading https://files.pythonhosted.org/packages/47/e5/892d78db0d26372aa376fc1b127e9cd4cc158727a76e0802069115fcbd6e/pytesseract-0.3.0.tar.gz\n",
            "Requirement already satisfied: Pillow in /usr/local/lib/python3.6/dist-packages (from pytesseract) (4.3.0)\n",
            "Requirement already satisfied: olefile in /usr/local/lib/python3.6/dist-packages (from Pillow->pytesseract) (0.46)\n",
            "Building wheels for collected packages: pytesseract\n",
            "  Building wheel for pytesseract (setup.py) ... \u001b[?25l\u001b[?25hdone\n",
            "  Created wheel for pytesseract: filename=pytesseract-0.3.0-py2.py3-none-any.whl size=20970 sha256=6755a105a8e7736bfd9b7737cc3a5ba4c9340015d502a6ca3e751360d54fd922\n",
            "  Stored in directory: /root/.cache/pip/wheels/78/c9/ac/4cb76bd547f9970070522439e5203ba7926c5c5c4f131583ea\n",
            "Successfully built pytesseract\n",
            "Installing collected packages: pytesseract\n",
            "Successfully installed pytesseract-0.3.0\n"
          ],
          "name": "stdout"
        }
      ]
    },
    {
      "cell_type": "markdown",
      "metadata": {
        "id": "TsBSqN9mVtcz",
        "colab_type": "text"
      },
      "source": [
        "## ติดตั้ง  tesseract สำหรับภาษาไทย"
      ]
    },
    {
      "cell_type": "code",
      "metadata": {
        "id": "ToDIFjfxUvV2",
        "colab_type": "code",
        "colab": {
          "base_uri": "https://localhost:8080/",
          "height": 642
        },
        "outputId": "e97b3afd-4710-462d-94f3-e332bee70607"
      },
      "source": [
        "! apt-get install tesseract-ocr-tha"
      ],
      "execution_count": 5,
      "outputs": [
        {
          "output_type": "stream",
          "text": [
            "Reading package lists... Done\n",
            "Building dependency tree       \n",
            "Reading state information... Done\n",
            "The following package was automatically installed and is no longer required:\n",
            "  libnvidia-common-430\n",
            "Use 'apt autoremove' to remove it.\n",
            "The following additional packages will be installed:\n",
            "  tesseract-ocr tesseract-ocr-eng tesseract-ocr-osd\n",
            "The following NEW packages will be installed:\n",
            "  tesseract-ocr tesseract-ocr-eng tesseract-ocr-osd tesseract-ocr-tha\n",
            "0 upgraded, 4 newly installed, 0 to remove and 7 not upgraded.\n",
            "Need to get 5,693 kB of archives.\n",
            "After this operation, 16.9 MB of additional disk space will be used.\n",
            "Get:1 http://archive.ubuntu.com/ubuntu bionic/universe amd64 tesseract-ocr-eng all 4.00~git24-0e00fe6-1.2 [1,588 kB]\n",
            "Get:2 http://archive.ubuntu.com/ubuntu bionic/universe amd64 tesseract-ocr-osd all 4.00~git24-0e00fe6-1.2 [2,989 kB]\n",
            "Get:3 http://archive.ubuntu.com/ubuntu bionic/universe amd64 tesseract-ocr amd64 4.00~git2288-10f4998a-2 [218 kB]\n",
            "Get:4 http://archive.ubuntu.com/ubuntu bionic/universe amd64 tesseract-ocr-tha all 4.00~git24-0e00fe6-1.2 [898 kB]\n",
            "Fetched 5,693 kB in 0s (34.0 MB/s)\n",
            "Selecting previously unselected package tesseract-ocr-eng.\n",
            "(Reading database ... 135004 files and directories currently installed.)\n",
            "Preparing to unpack .../tesseract-ocr-eng_4.00~git24-0e00fe6-1.2_all.deb ...\n",
            "Unpacking tesseract-ocr-eng (4.00~git24-0e00fe6-1.2) ...\n",
            "Selecting previously unselected package tesseract-ocr-osd.\n",
            "Preparing to unpack .../tesseract-ocr-osd_4.00~git24-0e00fe6-1.2_all.deb ...\n",
            "Unpacking tesseract-ocr-osd (4.00~git24-0e00fe6-1.2) ...\n",
            "Selecting previously unselected package tesseract-ocr.\n",
            "Preparing to unpack .../tesseract-ocr_4.00~git2288-10f4998a-2_amd64.deb ...\n",
            "Unpacking tesseract-ocr (4.00~git2288-10f4998a-2) ...\n",
            "Selecting previously unselected package tesseract-ocr-tha.\n",
            "Preparing to unpack .../tesseract-ocr-tha_4.00~git24-0e00fe6-1.2_all.deb ...\n",
            "Unpacking tesseract-ocr-tha (4.00~git24-0e00fe6-1.2) ...\n",
            "Setting up tesseract-ocr-osd (4.00~git24-0e00fe6-1.2) ...\n",
            "Setting up tesseract-ocr-eng (4.00~git24-0e00fe6-1.2) ...\n",
            "Setting up tesseract-ocr (4.00~git2288-10f4998a-2) ...\n",
            "Setting up tesseract-ocr-tha (4.00~git24-0e00fe6-1.2) ...\n",
            "Processing triggers for man-db (2.8.3-2ubuntu0.1) ...\n"
          ],
          "name": "stdout"
        }
      ]
    },
    {
      "cell_type": "markdown",
      "metadata": {
        "id": "hUvn-lZDVsmk",
        "colab_type": "text"
      },
      "source": [
        "## ตรวจสอบภาษาที่สามารถใช้งานได้"
      ]
    },
    {
      "cell_type": "code",
      "metadata": {
        "id": "mOzFPMVDU5Ul",
        "colab_type": "code",
        "colab": {
          "base_uri": "https://localhost:8080/",
          "height": 86
        },
        "outputId": "8d731190-1c45-41b2-dcad-6d0f288bb497"
      },
      "source": [
        "! tesseract --list-langs"
      ],
      "execution_count": 6,
      "outputs": [
        {
          "output_type": "stream",
          "text": [
            "List of available languages (3):\n",
            "tha\n",
            "eng\n",
            "osd\n"
          ],
          "name": "stdout"
        }
      ]
    },
    {
      "cell_type": "code",
      "metadata": {
        "id": "nxReeKOrXP-X",
        "colab_type": "code",
        "colab": {
          "base_uri": "https://localhost:8080/",
          "height": 260
        },
        "outputId": "0e47b8c1-64f8-478e-cfbd-239328a55ef0"
      },
      "source": [
        "! tesseract --help"
      ],
      "execution_count": 10,
      "outputs": [
        {
          "output_type": "stream",
          "text": [
            "Usage:\n",
            "  tesseract --help | --help-extra | --version\n",
            "  tesseract --list-langs\n",
            "  tesseract imagename outputbase [options...] [configfile...]\n",
            "\n",
            "OCR options:\n",
            "  -l LANG[+LANG]        Specify language(s) used for OCR.\n",
            "NOTE: These options must occur before any configfile.\n",
            "\n",
            "Single options:\n",
            "  --help                Show this help message.\n",
            "  --help-extra          Show extra help for advanced users.\n",
            "  --version             Show version information.\n",
            "  --list-langs          List available languages for tesseract engine.\n"
          ],
          "name": "stdout"
        }
      ]
    },
    {
      "cell_type": "markdown",
      "metadata": {
        "id": "PxUDp9UgfrCQ",
        "colab_type": "text"
      },
      "source": [
        "## ค้นหาบริเวณตัวอักษร (character)"
      ]
    },
    {
      "cell_type": "code",
      "metadata": {
        "id": "J4v12SreVEB9",
        "colab_type": "code",
        "colab": {
          "base_uri": "https://localhost:8080/",
          "height": 301
        },
        "outputId": "8ee8f94c-be57-49f3-b669-a6e22e1e7c85"
      },
      "source": [
        "import matplotlib.pyplot as plt\n",
        "import cv2\n",
        "import pytesseract\n",
        "\n",
        "img = cv2.imread('line-indent.png')\n",
        "\n",
        "h, w, c = img.shape\n",
        "boxes = pytesseract.image_to_boxes(img)\n",
        "for b in boxes.splitlines():\n",
        "  b = b.split(' ')\n",
        "  img = cv2.rectangle(img, (int(b[1]), h - int(b[2])), (int(b[3]), h - int(b[4])), (0, 0, 255), 2)\n",
        "\n",
        "plt.figure(figsize=(10,5))\n",
        "plt.imshow(img)\n",
        "plt.show()\n"
      ],
      "execution_count": 9,
      "outputs": [
        {
          "output_type": "display_data",
          "data": {
            "image/png": "[encoded data removed]",
            "text/plain": [
              "<Figure size 720x360 with 1 Axes>"
            ]
          },
          "metadata": {
            "tags": []
          }
        }
      ]
    },
    {
      "cell_type": "markdown",
      "metadata": {
        "id": "piAhBc1UfyLd",
        "colab_type": "text"
      },
      "source": [
        "## ค้นหาบริเวณของคำ (word)"
      ]
    },
    {
      "cell_type": "code",
      "metadata": {
        "id": "yDHI6Od0Wsv6",
        "colab_type": "code",
        "colab": {
          "base_uri": "https://localhost:8080/",
          "height": 34
        },
        "outputId": "304ee856-3830-42fd-8887-90ca5d582443"
      },
      "source": [
        "import matplotlib.pyplot as plt\n",
        "import cv2\n",
        "import pytesseract\n",
        "from pytesseract import Output\n",
        "\n",
        "img = cv2.imread('line-indent.png')\n",
        "\n",
        "d = pytesseract.image_to_data(img, output_type=Output.DICT)\n",
        "print(d.keys())\n"
      ],
      "execution_count": 12,
      "outputs": [
        {
          "output_type": "stream",
          "text": [
            "dict_keys(['level', 'page_num', 'block_num', 'par_num', 'line_num', 'word_num', 'left', 'top', 'width', 'height', 'conf', 'text'])\n"
          ],
          "name": "stdout"
        }
      ]
    },
    {
      "cell_type": "code",
      "metadata": {
        "id": "b17OE0YTXwJv",
        "colab_type": "code",
        "colab": {
          "base_uri": "https://localhost:8080/",
          "height": 301
        },
        "outputId": "976baace-14d1-4c18-f6a0-c9911e741f36"
      },
      "source": [
        "n_boxes = len(d['text'])\n",
        "for i in range(n_boxes):\n",
        "  if int(d['conf'][i]) > 60:\n",
        "    (x, y, w, h) = (d['left'][i], d['top'][i], d['width'][i], d['height'][i])\n",
        "    img = cv2.rectangle(img, (x, y), (x + w, y + h), (0, 0, 255), 2)\n",
        "\n",
        "plt.figure(figsize=(10,5))\n",
        "plt.imshow(img)\n",
        "plt.show()"
      ],
      "execution_count": 14,
      "outputs": [
        {
          "output_type": "display_data",
          "data": {
            "image/png": "[encoded data removed]",
            "text/plain": [
              "<Figure size 720x360 with 1 Axes>"
            ]
          },
          "metadata": {
            "tags": []
          }
        }
      ]
    },
    {
      "cell_type": "markdown",
      "metadata": {
        "id": "6BfK_DjNeRNM",
        "colab_type": "text"
      },
      "source": [
        "## ค้นหาข้อความในรูปภาพ - Text search in image"
      ]
    },
    {
      "cell_type": "markdown",
      "metadata": {
        "id": "q2XHP343fNjz",
        "colab_type": "text"
      },
      "source": [
        "### ตรวจสอบข้อมูลในตัวแปร List"
      ]
    },
    {
      "cell_type": "code",
      "metadata": {
        "id": "72Ws7058YVv9",
        "colab_type": "code",
        "colab": {
          "base_uri": "https://localhost:8080/",
          "height": 469
        },
        "outputId": "d41e8969-da36-45f1-e20b-e719fa30d173"
      },
      "source": [
        "d['text']"
      ],
      "execution_count": 86,
      "outputs": [
        {
          "output_type": "execute_result",
          "data": {
            "text/plain": [
              "['',\n",
              " '',\n",
              " '',\n",
              " '',\n",
              " 'This',\n",
              " 'is',\n",
              " 'the',\n",
              " 'first',\n",
              " 'line',\n",
              " 'of',\n",
              " '',\n",
              " 'this',\n",
              " 'text',\n",
              " 'example.',\n",
              " '',\n",
              " '',\n",
              " 'This',\n",
              " 'is',\n",
              " 'the',\n",
              " 'second',\n",
              " 'line',\n",
              " '',\n",
              " 'of',\n",
              " 'the',\n",
              " 'same',\n",
              " 'text.']"
            ]
          },
          "metadata": {
            "tags": []
          },
          "execution_count": 86
        }
      ]
    },
    {
      "cell_type": "markdown",
      "metadata": {
        "id": "f3BfhsvEfZdY",
        "colab_type": "text"
      },
      "source": [
        "### ค้นหาข้อมูลด้วย regular expression"
      ]
    },
    {
      "cell_type": "code",
      "metadata": {
        "id": "mROSknTteu_l",
        "colab_type": "code",
        "colab": {
          "base_uri": "https://localhost:8080/",
          "height": 469
        },
        "outputId": "f779158d-2491-4233-9723-37a86d6d3769"
      },
      "source": [
        "import re\n",
        "\n",
        "pattern = '[tT][he]'\n",
        "for i in range(0, len(d['text'])):\n",
        "  if(re.search(pattern, d['text'][i])):\n",
        "    print('Match:', d['text'][i])\n",
        "  else:\n",
        "    print('No')"
      ],
      "execution_count": 84,
      "outputs": [
        {
          "output_type": "stream",
          "text": [
            "No\n",
            "No\n",
            "No\n",
            "No\n",
            "Match: This\n",
            "No\n",
            "Match: the\n",
            "No\n",
            "No\n",
            "No\n",
            "No\n",
            "Match: this\n",
            "Match: text\n",
            "No\n",
            "No\n",
            "No\n",
            "Match: This\n",
            "No\n",
            "Match: the\n",
            "No\n",
            "No\n",
            "No\n",
            "No\n",
            "Match: the\n",
            "No\n",
            "Match: text.\n"
          ],
          "name": "stdout"
        }
      ]
    },
    {
      "cell_type": "markdown",
      "metadata": {
        "id": "VB4ESwIhffiW",
        "colab_type": "text"
      },
      "source": [
        "## โปรแกรม Search text in image"
      ]
    },
    {
      "cell_type": "code",
      "metadata": {
        "id": "adCuL3nIYAyW",
        "colab_type": "code",
        "colab": {
          "base_uri": "https://localhost:8080/",
          "height": 301
        },
        "outputId": "d359d138-30f1-4b4b-92a9-35a233070dcc"
      },
      "source": [
        "import re\n",
        "import numpy as np\n",
        "import cv2\n",
        "import pytesseract\n",
        "from pytesseract import Output\n",
        "\n",
        "img = cv2.imread('line-indent.png')\n",
        "search_img = np.array(img, copy=True)\n",
        "d = pytesseract.image_to_data(img, output_type=Output.DICT)\n",
        "keys = list(d.keys())\n",
        "\n",
        "# รูปแบบของข้อความที่ต้องการค้นหา\n",
        "#date_pattern = '^(0[1-9]|[12][0-9]|3[01])/(0[1-9]|1[012])/(19|20)\\d\\d$'\n",
        "#pattern = '^[To]a*'\n",
        "pattern = '[tT][he]'\n",
        "\n",
        "n_boxes = len(d['text'])\n",
        "for i in range(n_boxes):\n",
        "  if int(d['conf'][i]) > 60:\n",
        "    #if re.match(pattern, d['text'][i]):\n",
        "    if re.search(pattern, d['text'][i]):\n",
        "      (x, y, w, h) = (d['left'][i], d['top'][i], d['width'][i], d['height'][i])\n",
        "      cv2.rectangle(search_img, (x, y), (x + w, y + h), (255, 0, 0), 2)\n",
        "\n",
        "plt.figure(figsize=(10,5))\n",
        "plt.imshow(search_img)\n",
        "plt.show()"
      ],
      "execution_count": 88,
      "outputs": [
        {
          "output_type": "display_data",
          "data": {
            "image/png": "[encoded data removed]",
            "text/plain": [
              "<Figure size 720x360 with 1 Axes>"
            ]
          },
          "metadata": {
            "tags": []
          }
        }
      ]
    },
    {
      "cell_type": "code",
      "metadata": {
        "id": "QA9RMoYbbOuX",
        "colab_type": "code",
        "colab": {}
      },
      "source": [
        ""
      ],
      "execution_count": 0,
      "outputs": []
    }
  ]
}